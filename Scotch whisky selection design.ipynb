{
 "cells": [
  {
   "cell_type": "markdown",
   "metadata": {},
   "source": [
    "#  Scotch whisky selection design\n",
    "\n",
    "The grocery store would like to choose a selection of whiskies to offer so as to maximize the expected per-customer revenue.\n"
   ]
  },
  {
   "cell_type": "markdown",
   "metadata": {},
   "source": [
    "## Part 1: Solving the problem\n",
    "a) Analyzing the expected revenue of the optimal selection of whiskies.\n",
    "\n",
    "b) Which whiskies are offered in the optimal solution.\n",
    "\n",
    "c) The choice probabilities of the whiskies in the optimal solution."
   ]
  },
  {
   "cell_type": "code",
   "execution_count": 210,
   "metadata": {},
   "outputs": [
    {
     "data": {
      "text/plain": [
       "array([45, 86, 52, 60, 105, 80, 140, 125, 60, 85, 136, 140, 65, 58, 150,\n",
       "       63, 57, 85, 90, 66, 65, 75, 58, 90, 65, 70, 80, 63, 69, 61, 225,\n",
       "       68, 115, 185, 65, 49, 165, 36, 165, 85, 200, 146, 64, 79, 115, 63,\n",
       "       50, 70, 90, 175, 86, 45, 220, 54, 90, 77, 190, 115, 130, 100, 79,\n",
       "       110, 72, 180, 100, 110, 83, 105, 56, 73, 500, 86, 60, 58, 67, 199,\n",
       "       160, 73, 67, 165, 110, 105, 35, 90, 110, 78], dtype=object)"
      ]
     },
     "execution_count": 210,
     "metadata": {},
     "output_type": "execute_result"
    }
   ],
   "source": [
    "import numpy as np\n",
    "import pandas as pd\n",
    "\n",
    "# Read the partworth matrix:\n",
    "price = pd.read_csv(\"whiskies-attributes-prices.csv\")\n",
    "price = np.asarray(price)\n",
    "\n",
    "uti = pd.read_csv(\"whiskies-utilities.csv\")\n",
    "uti = np.asarray(uti)\n",
    "\n",
    "marginal_profit = np.transpose(price)[13]\n",
    "marginal_profit"
   ]
  },
  {
   "cell_type": "code",
   "execution_count": 119,
   "metadata": {
    "scrolled": true
   },
   "outputs": [
    {
     "name": "stdout",
     "output_type": "stream",
     "text": [
      "('Expected profit: ', 56.31)\n"
     ]
    }
   ],
   "source": [
    "utility = uti.copy()\n",
    "S = np.array([1,2,3,4,5])\n",
    "#S = np.arange(1,101,1)\n",
    "nCustomers = 100\n",
    "nProducts = 86\n",
    "#utility = np.transpose(utility)\n",
    "\n",
    "# expected profit function\n",
    "def expected_profit(S):\n",
    "    # Add the no-purchase option:\n",
    "    # NB: the products are numbered from 0 to 99. Index 100 ( = nProducts) will correspond to the no-purchase option. \n",
    "    S2 = np.append(S, nProducts-1)\n",
    "    \n",
    "    choice_probabilities = np.zeros([nCustomers,len(S2)])\n",
    "    #for i in S2:\n",
    "        #choice_probabilities[i] = 0.0;\n",
    "    \n",
    "    for k in range(nCustomers):\n",
    "        #utilities\n",
    "        uti = utility[k][S-1]\n",
    "        # first choice = max utilities\n",
    "        first_choice = np.argmax(uti)\n",
    "        # Compare to non_purchase uti 27\n",
    "        if (uti[first_choice] < 27):\n",
    "            first_choice = len(S)\n",
    "        choice_probabilities[k][first_choice] = 1\n",
    "        \n",
    "\n",
    "        #ind = np.argmax( utilities_mat[k,S2])\n",
    "#         if (S2[ind] == 100):\n",
    "#             print utilities_mat[k,S2]         \n",
    "        #choice_probabilities[ S2[ind] ] += 1.0/nCustomers\n",
    "    \n",
    "    marginal_p = np.append(marginal_profit[S-1],0)\n",
    "    exp_revenure = np.dot(choice_probabilities, marginal_p)\n",
    "    mean_exp_revenue = exp_revenure.mean()\n",
    "    #exp_revenue = sum( [choice_probabilities[i] * marginal_profit[i] for i in S])\n",
    "        \n",
    "    return mean_exp_revenue, choice_probabilities\n",
    "\n",
    "\n",
    "# Let's see one simple example -- we only offer product 1.\n",
    "exp_profit, choice_probabilities = expected_profit(S)\n",
    "print(\"Expected profit: \", exp_profit)\n",
    "#print(\"Choice probabilities: \", choice_probabilities)"
   ]
  },
  {
   "cell_type": "code",
   "execution_count": 108,
   "metadata": {
    "scrolled": true
   },
   "outputs": [
    {
     "name": "stdout",
     "output_type": "stream",
     "text": [
      "('Expected profit: ', 106.2)\n",
      "('Choice probabilities: ', array([[0., 0., 0., ..., 0., 0., 0.],\n",
      "       [0., 0., 0., ..., 0., 0., 0.],\n",
      "       [0., 0., 0., ..., 0., 0., 0.],\n",
      "       ...,\n",
      "       [0., 0., 0., ..., 0., 0., 0.],\n",
      "       [0., 0., 0., ..., 0., 0., 0.],\n",
      "       [0., 0., 0., ..., 0., 0., 0.]]))\n"
     ]
    }
   ],
   "source": [
    "all_product = np.arange(1,nProducts+1,1)\n",
    "exp_profit, choice_probabilities = expected_profit(all_product)\n",
    "print(\"Expected profit: \", exp_profit)\n",
    "print(\"Choice probabilities: \", choice_probabilities)\n"
   ]
  },
  {
   "cell_type": "code",
   "execution_count": 129,
   "metadata": {},
   "outputs": [
    {
     "data": {
      "text/plain": [
       "78"
      ]
     },
     "execution_count": 129,
     "metadata": {},
     "output_type": "execute_result"
    }
   ],
   "source": [
    "len(marginal_profit)\n",
    "range(nProducts)\n",
    "marginal_profit[85]"
   ]
  },
  {
   "cell_type": "code",
   "execution_count": 123,
   "metadata": {},
   "outputs": [
    {
     "data": {
      "text/plain": [
       "(100, 87)"
      ]
     },
     "execution_count": 123,
     "metadata": {},
     "output_type": "execute_result"
    }
   ],
   "source": [
    "utility.shape\n",
    "\n",
    "nopurchase_utilities = np.full((nCustomers,1),27)\n",
    "\n",
    "utility2 = np.concatenate( (utility, nopurchase_utilities) , axis = 1)\n",
    "utility2.shape"
   ]
  },
  {
   "cell_type": "code",
   "execution_count": 372,
   "metadata": {},
   "outputs": [
    {
     "name": "stdout",
     "output_type": "stream",
     "text": [
      "Creating constraints:\n",
      "Creating objective:\n",
      "Update completed\n",
      "Optimize a model with 17400 rows, 8786 columns and 339435 nonzeros\n",
      "Variable types: 0 continuous, 8786 integer (8786 binary)\n",
      "Coefficient statistics:\n",
      "  Matrix range     [2e-04, 6e+01]\n",
      "  Objective range  [3e-01, 5e+00]\n",
      "  Bounds range     [1e+00, 1e+00]\n",
      "  RHS range        [1e+00, 3e+01]\n",
      "Presolve removed 12495 rows and 6281 columns\n",
      "Presolve time: 0.63s\n",
      "Presolved: 4905 rows, 2505 columns, 55538 nonzeros\n",
      "Variable types: 0 continuous, 2505 integer (2505 binary)\n",
      "Found heuristic solution: objective 107.5200000\n",
      "\n",
      "Root relaxation: objective 1.345310e+02, 605 iterations, 0.03 seconds\n",
      "\n",
      "    Nodes    |    Current Node    |     Objective Bounds      |     Work\n",
      " Expl Unexpl |  Obj  Depth IntInf | Incumbent    BestBd   Gap | It/Node Time\n",
      "\n",
      "     0     0  134.53104    0  340  107.52000  134.53104  25.1%     -    0s\n",
      "H    0     0                     121.3700000  134.53104  10.8%     -    0s\n",
      "H    0     0                     128.2800000  134.53104  4.87%     -    1s\n",
      "H    0     0                     129.2900000  134.53104  4.05%     -    1s\n",
      "H    0     0                     129.3900000  134.53104  3.97%     -    1s\n",
      "     0     0  133.01100    0  283  129.39000  133.01100  2.80%     -    1s\n",
      "     0     0  132.93904    0  296  129.39000  132.93904  2.74%     -    1s\n",
      "H    0     0                     130.0500000  132.93904  2.22%     -    1s\n",
      "     0     0  132.91287    0  302  130.05000  132.91287  2.20%     -    1s\n",
      "     0     0  132.91149    0  300  130.05000  132.91149  2.20%     -    1s\n",
      "     0     0  132.91149    0  300  130.05000  132.91149  2.20%     -    1s\n",
      "     0     0  132.53075    0  339  130.05000  132.53075  1.91%     -    1s\n",
      "     0     0  132.49014    0  342  130.05000  132.49014  1.88%     -    1s\n",
      "     0     0  132.48307    0  346  130.05000  132.48307  1.87%     -    1s\n",
      "     0     0  132.48107    0  345  130.05000  132.48107  1.87%     -    1s\n",
      "     0     0  132.19788    0  328  130.05000  132.19788  1.65%     -    1s\n",
      "     0     0  132.18275    0  332  130.05000  132.18275  1.64%     -    1s\n",
      "     0     0  132.17316    0  325  130.05000  132.17316  1.63%     -    1s\n",
      "     0     0  132.17300    0  321  130.05000  132.17300  1.63%     -    1s\n",
      "     0     0  132.00581    0  350  130.05000  132.00581  1.50%     -    1s\n",
      "     0     0  132.00000    0  285  130.05000  132.00000  1.50%     -    1s\n",
      "     0     0  131.99754    0  358  130.05000  131.99754  1.50%     -    1s\n",
      "     0     0  131.99602    0  345  130.05000  131.99602  1.50%     -    1s\n",
      "     0     0  131.99602    0  345  130.05000  131.99602  1.50%     -    1s\n",
      "H    0     0                     130.3500000  131.99602  1.26%     -    1s\n",
      "     0     0  131.84427    0  350  130.35000  131.84427  1.15%     -    2s\n",
      "     0     0  131.83000    0  381  130.35000  131.83000  1.14%     -    2s\n",
      "     0     0  131.81644    0  338  130.35000  131.81644  1.13%     -    2s\n",
      "     0     0  131.81644    0  373  130.35000  131.81644  1.13%     -    2s\n",
      "     0     0  131.79000    0  377  130.35000  131.79000  1.10%     -    2s\n",
      "     0     0  131.79000    0  376  130.35000  131.79000  1.10%     -    2s\n",
      "     0     0  131.52048    0  364  130.35000  131.52048  0.90%     -    2s\n",
      "     0     0  131.41955    0  358  130.35000  131.41955  0.82%     -    2s\n",
      "     0     0  131.30000    0  344  130.35000  131.30000  0.73%     -    2s\n",
      "     0     0  131.27152    0  348  130.35000  131.27152  0.71%     -    2s\n",
      "     0     0  131.20333    0  352  130.35000  131.20333  0.65%     -    2s\n",
      "     0     0  131.16972    0  354  130.35000  131.16972  0.63%     -    2s\n",
      "     0     0  131.14200    0  363  130.35000  131.14200  0.61%     -    2s\n",
      "     0     0  131.11825    0  344  130.35000  131.11825  0.59%     -    2s\n",
      "     0     0  131.07250    0  345  130.35000  131.07250  0.55%     -    2s\n",
      "     0     0  131.07250    0  350  130.35000  131.07250  0.55%     -    2s\n",
      "     0     0  131.07250    0  349  130.35000  131.07250  0.55%     -    2s\n",
      "     0     0  130.37251    0  375  130.35000  130.37251  0.02%     -    2s\n",
      "     0     0  130.37251    0  374  130.35000  130.37251  0.02%     -    2s\n",
      "     0     0  130.37251    0  378  130.35000  130.37251  0.02%     -    2s\n",
      "     0     0  130.37251    0  379  130.35000  130.37251  0.02%     -    2s\n",
      "     0     0  130.37251    0  378  130.35000  130.37251  0.02%     -    2s\n",
      "     0     0  130.37251    0  380  130.35000  130.37251  0.02%     -    2s\n",
      "     0     0  130.37251    0  359  130.35000  130.37251  0.02%     -    2s\n",
      "     0     0  130.37251    0  382  130.35000  130.37251  0.02%     -    2s\n",
      "     0     0  130.37251    0  383  130.35000  130.37251  0.02%     -    2s\n",
      "     0     0  130.37251    0  384  130.35000  130.37251  0.02%     -    2s\n",
      "     0     0  130.37251    0  377  130.35000  130.37251  0.02%     -    2s\n",
      "     0     0  130.37251    0  369  130.35000  130.37251  0.02%     -    3s\n",
      "     0     2  130.37251    0  364  130.35000  130.37251  0.02%     -    3s\n",
      "\n",
      "Cutting planes:\n",
      "  Gomory: 2\n",
      "  Implied bound: 1\n",
      "  Clique: 103\n",
      "  MIR: 12\n",
      "  Zero half: 87\n",
      "\n",
      "Explored 44 nodes (9775 simplex iterations) in 3.62 seconds\n",
      "Thread count was 12 (of 12 available processors)\n",
      "\n",
      "Solution count 7: 130.35 130.05 129.39 ... 107.52\n",
      "\n",
      "Optimal solution found (tolerance 1.00e-04)\n",
      "Best objective 1.303500000000e+02, best bound 1.303500000000e+02, gap 0.0000%\n",
      "('Optimal set of products: ', [6, 9, 10, 11, 18, 32, 41, 57, 58, 64, 70, 82])\n",
      "('Optimal profit: ', 130.35000000000008)\n",
      "('Optimal profit (via expected_profit): ', 106.2)\n"
     ]
    }
   ],
   "source": [
    "from gurobipy import *\n",
    "\n",
    "m = Model()\n",
    "\n",
    "# Create the decision variables\n",
    "x = m.addVars(nProducts, vtype = GRB.BINARY )\n",
    "y = m.addVars(nCustomers, nProducts+1, vtype = GRB.BINARY)\n",
    "\n",
    "# Create the constraints:\n",
    "print(\"Creating constraints:\")\n",
    "for k in range(nCustomers):\n",
    "    m.addConstr( sum(y[k,i] for i in range(nProducts+1)) == 1)\n",
    "    for i in range(nProducts):\n",
    "        m.addConstr( y[k,i] <= x[i] )\n",
    "        m.addConstr( quicksum( utility2[k,j] * y[k,j] for j in range(nProducts+1)) >= utility2[k,i] * x[i] + utility2[k,nProducts]*(1 - x[i]))\n",
    "    m.addConstr( quicksum( utility2[k,j] * y[k,j] for j in range(nProducts+1)) >= utility2[k,nProducts] )\n",
    "\n",
    "\n",
    "\n",
    "# Create the objective:\n",
    "print(\"Creating objective:\")\n",
    "m.setObjective( quicksum(marginal_profit[i] * 1.0/nCustomers * y[k,i] for k in range(nCustomers) for i in range(nProducts)), GRB.MAXIMIZE)\n",
    "\n",
    "# Update and solve\n",
    "m.update()\n",
    "\n",
    "print(\"Update completed\")\n",
    "m.optimize()\n",
    "\n",
    "\n",
    "S_optimal = [i for i in range(nProducts) if x[i].x == 1]\n",
    "print(\"Optimal set of products: \", S_optimal)\n",
    "\n",
    "optimal_profit = m.objval\n",
    "print(\"Optimal profit: \",optimal_profit)\n",
    "\n",
    "# Verify that optimal profit is correct:\n",
    "exp_profit_S_optimal, choice_probabilities_S_optimal = expected_profit( all_product )\n",
    "print(\"Optimal profit (via expected_profit): \", exp_profit_S_optimal)"
   ]
  },
  {
   "cell_type": "code",
   "execution_count": 345,
   "metadata": {},
   "outputs": [
    {
     "name": "stdout",
     "output_type": "stream",
     "text": [
      "[0.07 0.06 0.05 0.05 0.08 0.07 0.   0.24 0.07 0.14 0.07 0.02 0.08]\n",
      "130.35\n"
     ]
    },
    {
     "data": {
      "text/plain": [
       "0.9999999999999999"
      ]
     },
     "execution_count": 345,
     "metadata": {},
     "output_type": "execute_result"
    }
   ],
   "source": [
    "S_optimal2=np.array(S_optimal)\n",
    "s,cp=expected_profit(S_optimal2+1)\n",
    "# print(y)\n",
    "# choice probabilities\n",
    "a=[sum(x) for x in zip(*cp)]\n",
    "whiskies_cp = np.array(np.array(a)/100)\n",
    "print(whiskies_cp)\n",
    "np.array(whiskies_cp)[8]\n",
    "print(s)\n",
    "sum(whiskies_cp)"
   ]
  },
  {
   "cell_type": "code",
   "execution_count": 346,
   "metadata": {},
   "outputs": [
    {
     "name": "stdout",
     "output_type": "stream",
     "text": [
      "['Auchentoshan' 'Balblair' 'Balmenach' 'Balvenie' 'Bowmore'\n",
      " 'GlenDeveronMacduff' 'Glenallachie' 'Lagavulin' 'Laphroiag' 'Miltonduff'\n",
      " 'RoyalLochnagar' 'Tomatin']\n",
      "('Product & Python index ', array([ 6,  9, 10, 11, 18, 32, 41, 57, 58, 64, 70, 82]))\n"
     ]
    }
   ],
   "source": [
    "# name of optimal set\n",
    "print(price[:,0][S_optimal2])\n",
    "print(\"Product & Python index \",S_optimal2)"
   ]
  },
  {
   "cell_type": "markdown",
   "metadata": {},
   "source": [
    "## Part 2: Balancing the whisky selection"
   ]
  },
  {
   "cell_type": "code",
   "execution_count": 363,
   "metadata": {
    "scrolled": true
   },
   "outputs": [
    {
     "name": "stdout",
     "output_type": "stream",
     "text": [
      "['Laphroiag' 4 2 4 4 1 0 0 1 1 1 0 0 130]\n"
     ]
    },
    {
     "data": {
      "text/plain": [
       "0.07"
      ]
     },
     "execution_count": 363,
     "metadata": {},
     "output_type": "execute_result"
    }
   ],
   "source": [
    "# Laphroaig\n",
    "a= 58\n",
    "print(price[a])\n",
    "#print(y[4,56].x)\n",
    "b=a\n",
    "sum(y[k,b].x for k in range(nCustomers))/100"
   ]
  },
  {
   "cell_type": "markdown",
   "metadata": {},
   "source": [
    "## Part 3: Extending the formulation\n",
    "\n",
    "### The grocery store is interested in enriching the formulation by incorporating additional requirements on the selection of whiskies. "
   ]
  },
  {
   "cell_type": "markdown",
   "metadata": {},
   "source": [
    "a) The fraction of customers choosing Laphroaig must be at least 0.04."
   ]
  },
  {
   "cell_type": "code",
   "execution_count": 373,
   "metadata": {
    "scrolled": true
   },
   "outputs": [
    {
     "name": "stdout",
     "output_type": "stream",
     "text": [
      "Optimize a model with 17401 rows, 8786 columns and 339535 nonzeros\n",
      "Variable types: 0 continuous, 8786 integer (8786 binary)\n",
      "Coefficient statistics:\n",
      "  Matrix range     [2e-04, 6e+01]\n",
      "  Objective range  [3e-01, 5e+00]\n",
      "  Bounds range     [1e+00, 1e+00]\n",
      "  RHS range        [4e-02, 3e+01]\n",
      "\n",
      "Loaded MIP start with objective 130.35\n",
      "\n",
      "Presolve removed 13186 rows and 6607 columns\n",
      "Presolve time: 0.83s\n",
      "Presolved: 4215 rows, 2179 columns, 49755 nonzeros\n",
      "Variable types: 0 continuous, 2179 integer (2179 binary)\n",
      "\n",
      "Root relaxation: objective 1.322957e+02, 522 iterations, 0.03 seconds\n",
      "\n",
      "    Nodes    |    Current Node    |     Objective Bounds      |     Work\n",
      " Expl Unexpl |  Obj  Depth IntInf | Incumbent    BestBd   Gap | It/Node Time\n",
      "\n",
      "     0     0  132.05614    0  240  130.35000  132.05614  1.31%     -    1s\n",
      "     0     0  130.92074    0  272  130.35000  130.92074  0.44%     -    1s\n",
      "     0     0  130.90629    0  269  130.35000  130.90629  0.43%     -    1s\n",
      "     0     0  130.90158    0  268  130.35000  130.90158  0.42%     -    1s\n",
      "     0     0  130.89568    0  273  130.35000  130.89568  0.42%     -    1s\n",
      "     0     0  130.89568    0  273  130.35000  130.89568  0.42%     -    1s\n",
      "     0     0  130.68702    0  234  130.35000  130.68702  0.26%     -    1s\n",
      "     0     0  130.67713    0  260  130.35000  130.67713  0.25%     -    1s\n",
      "     0     0  130.67390    0  248  130.35000  130.67390  0.25%     -    1s\n",
      "     0     0  130.57917    0  281  130.35000  130.57917  0.18%     -    1s\n",
      "     0     0 infeasible    0       130.35000  130.35000  0.00%     -    1s\n",
      "\n",
      "Explored 1 nodes (2288 simplex iterations) in 1.86 seconds\n",
      "Thread count was 12 (of 12 available processors)\n",
      "\n",
      "Solution count 1: 130.35 \n",
      "\n",
      "Optimal solution found (tolerance 1.00e-04)\n",
      "Best objective 1.303500000000e+02, best bound 1.303500000000e+02, gap 0.0000%\n",
      "('Optimal set of products (width of product line at most 5): ', [6, 9, 10, 11, 18, 32, 41, 57, 58, 64, 70, 82])\n",
      "('Optimal profit (width of product line at most 5): ', 130.35000000000008)\n"
     ]
    }
   ],
   "source": [
    "m.addConstr( sum(y[k,58] for k in range(nCustomers))/100 >= 0.04) # no more than 5 products\n",
    "\n",
    "m.update()\n",
    "m.optimize()\n",
    "\n",
    "# Retrieve the optimal solution and objective value:\n",
    "S_optimal_constrained = [i for i in range(nProducts) if x[i].x == 1]\n",
    "print(\"Optimal set of products (width of product line at most 5): \", S_optimal_constrained)\n",
    "\n",
    "optimal_profit_constrained = m.objval\n",
    "print(\"Optimal profit (width of product line at most 5): \", optimal_profit_constrained)"
   ]
  },
  {
   "cell_type": "code",
   "execution_count": 380,
   "metadata": {
    "scrolled": true
   },
   "outputs": [
    {
     "data": {
      "text/plain": [
       "array([0.07, 0.06, 0.05, 0.05, 0.08, 0.07, 0.  , 0.24, 0.07, 0.14, 0.07,\n",
       "       0.02, 0.08])"
      ]
     },
     "execution_count": 380,
     "metadata": {},
     "output_type": "execute_result"
    }
   ],
   "source": [
    "S_optimal3=np.array(S_optimal_constrained)\n",
    "s,cp=expected_profit(S_optimal3+1)\n",
    "# print(y)\n",
    "# choice probabilities\n",
    "a=[sum(x) for x in zip(*cp)]\n",
    "np.array(np.array(a)/100)"
   ]
  },
  {
   "cell_type": "code",
   "execution_count": 388,
   "metadata": {},
   "outputs": [
    {
     "name": "stdout",
     "output_type": "stream",
     "text": [
      "('Bowmore', 'Oban', 'Talisker')\n"
     ]
    }
   ],
   "source": [
    "print(price[18][0],price[66][0],price[77][0])"
   ]
  }
 ],
 "metadata": {
  "kernelspec": {
   "display_name": "Python 2",
   "language": "python",
   "name": "python2"
  },
  "language_info": {
   "codemirror_mode": {
    "name": "ipython",
    "version": 2
   },
   "file_extension": ".py",
   "mimetype": "text/x-python",
   "name": "python",
   "nbconvert_exporter": "python",
   "pygments_lexer": "ipython2",
   "version": "2.7.15"
  }
 },
 "nbformat": 4,
 "nbformat_minor": 2
}
